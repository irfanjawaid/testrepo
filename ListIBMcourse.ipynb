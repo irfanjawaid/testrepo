{
 "cells": [
  {
   "cell_type": "code",
   "execution_count": 1,
   "id": "e0da8003-d0aa-4bf1-aef3-913031b8c7f6",
   "metadata": {},
   "outputs": [
    {
     "data": {
      "text/plain": [
       "['Michael Jackson', 10.1, 1982]"
      ]
     },
     "execution_count": 1,
     "metadata": {},
     "output_type": "execute_result"
    }
   ],
   "source": [
    "L = [\"Michael Jackson\", 10.1, 1982]\n",
    "L"
   ]
  },
  {
   "cell_type": "code",
   "execution_count": 2,
   "id": "7b35433c-0376-4fd8-97cb-e019e86ecef9",
   "metadata": {},
   "outputs": [
    {
     "name": "stdout",
     "output_type": "stream",
     "text": [
      "the same element using negative and positive indexing:\n",
      " Postive: Michael Jackson \n",
      " Negative: Michael Jackson\n",
      "the same element using negative and positive indexing:\n",
      " Postive: 10.1 \n",
      " Negative: 10.1\n",
      "the same element using negative and positive indexing:\n",
      " Postive: 1982 \n",
      " Negative: 1982\n"
     ]
    }
   ],
   "source": [
    "# Print the elements on each index\n",
    "\n",
    "print('the same element using negative and positive indexing:\\n Postive:',L[0],\n",
    "'\\n Negative:' , L[-3]  )\n",
    "print('the same element using negative and positive indexing:\\n Postive:',L[1],\n",
    "'\\n Negative:' , L[-2]  )\n",
    "print('the same element using negative and positive indexing:\\n Postive:',L[2],\n",
    "'\\n Negative:' , L[-1]  )"
   ]
  },
  {
   "cell_type": "code",
   "execution_count": 6,
   "id": "fb8f9f6d-27d1-40e0-9ce8-0119f3f6d1c4",
   "metadata": {},
   "outputs": [
    {
     "data": {
      "text/plain": [
       "['Michael Jackson', 10.1, 1982, [1, 2], ('A', 1)]"
      ]
     },
     "execution_count": 6,
     "metadata": {},
     "output_type": "execute_result"
    }
   ],
   "source": [
    "# Sample List\n",
    "\n",
    "L=[\"Michael Jackson\", 10.1, 1982, [1, 2], (\"A\", 1)]\n",
    "L"
   ]
  },
  {
   "cell_type": "code",
   "execution_count": 7,
   "id": "9feaefef-c0bc-483b-a061-b51ae9bc7ffa",
   "metadata": {},
   "outputs": [
    {
     "data": {
      "text/plain": [
       "[[1, 2], ('A', 1)]"
      ]
     },
     "execution_count": 7,
     "metadata": {},
     "output_type": "execute_result"
    }
   ],
   "source": [
    "# List slicing\n",
    "\n",
    "L[3:5]"
   ]
  },
  {
   "cell_type": "code",
   "execution_count": 8,
   "id": "c155caec-c84c-4529-9619-ed3c907e7321",
   "metadata": {},
   "outputs": [
    {
     "data": {
      "text/plain": [
       "['Michael Jackson', 10.2, 'pop', 10]"
      ]
     },
     "execution_count": 8,
     "metadata": {},
     "output_type": "execute_result"
    }
   ],
   "source": [
    "L = [ \"Michael Jackson\", 10.2]\n",
    "L.extend(['pop', 10])\n",
    "L"
   ]
  },
  {
   "cell_type": "code",
   "execution_count": 9,
   "id": "b8c6f63f-e247-4619-88ab-705141a0f7a1",
   "metadata": {},
   "outputs": [
    {
     "data": {
      "text/plain": [
       "['Michael Jackson', 10.2, ['pop', 10]]"
      ]
     },
     "execution_count": 9,
     "metadata": {},
     "output_type": "execute_result"
    }
   ],
   "source": [
    "# Use append to add elements to list\n",
    "\n",
    "L = [ \"Michael Jackson\", 10.2]\n",
    "L.append(['pop', 10])\n",
    "L"
   ]
  },
  {
   "cell_type": "code",
   "execution_count": 10,
   "id": "5edfd6bf-a18d-473d-be8a-8c5ae1aba0a0",
   "metadata": {},
   "outputs": [
    {
     "data": {
      "text/plain": [
       "['Michael Jackson', 10.2, 'pop', 10]"
      ]
     },
     "execution_count": 10,
     "metadata": {},
     "output_type": "execute_result"
    }
   ],
   "source": [
    "# Use extend to add elements to list\n",
    "\n",
    "L = [ \"Michael Jackson\", 10.2]\n",
    "L.extend(['pop', 10])\n",
    "L"
   ]
  },
  {
   "cell_type": "code",
   "execution_count": 11,
   "id": "83952ee7-772d-4168-a8b4-a69a3dc38f9c",
   "metadata": {},
   "outputs": [
    {
     "data": {
      "text/plain": [
       "['Michael Jackson', 10.2, 'pop', 10, ['a', 'b']]"
      ]
     },
     "execution_count": 11,
     "metadata": {},
     "output_type": "execute_result"
    }
   ],
   "source": [
    "# Use append to add elements to list\n",
    "\n",
    "L.append(['a','b'])\n",
    "L"
   ]
  },
  {
   "cell_type": "code",
   "execution_count": 12,
   "id": "f6c6b735-5260-4f32-a0f2-bda316dd7ab2",
   "metadata": {},
   "outputs": [
    {
     "name": "stdout",
     "output_type": "stream",
     "text": [
      "Before change: ['disco', 10, 1.2]\n",
      "After change: ['hard rock', 10, 1.2]\n"
     ]
    }
   ],
   "source": [
    "# Change the element based on the index\n",
    "\n",
    "A = [\"disco\", 10, 1.2]\n",
    "print('Before change:', A)\n",
    "A[0] = 'hard rock'\n",
    "print('After change:', A)"
   ]
  },
  {
   "cell_type": "code",
   "execution_count": 13,
   "id": "1fad42b5-8f3c-492c-b115-9a698a3edb74",
   "metadata": {},
   "outputs": [
    {
     "name": "stdout",
     "output_type": "stream",
     "text": [
      "Before change: ['hard rock', 10, 1.2]\n",
      "After change: [10, 1.2]\n"
     ]
    }
   ],
   "source": [
    "# Delete the element based on the index\n",
    "\n",
    "print('Before change:', A)\n",
    "del(A[0])\n",
    "print('After change:', A)"
   ]
  },
  {
   "cell_type": "code",
   "execution_count": 14,
   "id": "0697f80e-5a74-47db-b8f2-23a92f9a9e8f",
   "metadata": {},
   "outputs": [
    {
     "data": {
      "text/plain": [
       "['hard', 'rock']"
      ]
     },
     "execution_count": 14,
     "metadata": {},
     "output_type": "execute_result"
    }
   ],
   "source": [
    "# Split the string, default is by space\n",
    "\n",
    "'hard rock'.split()"
   ]
  },
  {
   "cell_type": "code",
   "execution_count": 15,
   "id": "68ad3c65-3065-4af1-b830-7e45c3d81032",
   "metadata": {},
   "outputs": [
    {
     "data": {
      "text/plain": [
       "['A', 'B', 'C', 'D']"
      ]
     },
     "execution_count": 15,
     "metadata": {},
     "output_type": "execute_result"
    }
   ],
   "source": [
    "'A,B,C,D'.split(',')"
   ]
  },
  {
   "cell_type": "code",
   "execution_count": 16,
   "id": "00247b56-f49c-4efa-a09d-c7a2c350cf7a",
   "metadata": {},
   "outputs": [
    {
     "name": "stdout",
     "output_type": "stream",
     "text": [
      "A: ['hard rock', 10, 1.2]\n",
      "B: ['hard rock', 10, 1.2]\n"
     ]
    }
   ],
   "source": [
    "# Copy (copy by reference) the list A\n",
    "\n",
    "A = [\"hard rock\", 10, 1.2]\n",
    "B = A\n",
    "print('A:', A)\n",
    "print('B:', B)"
   ]
  },
  {
   "cell_type": "code",
   "execution_count": 17,
   "id": "361ee9ed-3bdd-45c3-9939-3db64fcb7efa",
   "metadata": {},
   "outputs": [
    {
     "name": "stdout",
     "output_type": "stream",
     "text": [
      "B[0]: hard rock\n",
      "B[0]: banana\n"
     ]
    }
   ],
   "source": [
    "# Examine the copy by reference\n",
    "\n",
    "print('B[0]:', B[0])\n",
    "A[0] = \"banana\"\n",
    "print('B[0]:', B[0])"
   ]
  },
  {
   "cell_type": "code",
   "execution_count": 18,
   "id": "206f93e3-2052-4eb4-bfa8-c3fafe53739a",
   "metadata": {},
   "outputs": [
    {
     "data": {
      "text/plain": [
       "['banana', 10, 1.2]"
      ]
     },
     "execution_count": 18,
     "metadata": {},
     "output_type": "execute_result"
    }
   ],
   "source": [
    "# Clone (clone by value) the list A\n",
    "\n",
    "B = A[:]\n",
    "B"
   ]
  },
  {
   "cell_type": "code",
   "execution_count": 19,
   "id": "f3fde16c-3ad7-4ae2-b475-cc1314b49816",
   "metadata": {},
   "outputs": [
    {
     "name": "stdout",
     "output_type": "stream",
     "text": [
      "B[0]: banana\n",
      "B[0]: banana\n"
     ]
    }
   ],
   "source": [
    "print('B[0]:', B[0])\n",
    "A[0] = \"hard rock\"\n",
    "print('B[0]:', B[0])"
   ]
  },
  {
   "cell_type": "code",
   "execution_count": 20,
   "id": "a81d088b-2941-4b89-8ad1-692c7a18e9b7",
   "metadata": {},
   "outputs": [
    {
     "data": {
      "text/plain": [
       "[1, 'hello', [1, 2, 3], True]"
      ]
     },
     "execution_count": 20,
     "metadata": {},
     "output_type": "execute_result"
    }
   ],
   "source": [
    "a_list = [1, 'hello', [1, 2, 3] , True]\n",
    "a_list"
   ]
  },
  {
   "cell_type": "code",
   "execution_count": 21,
   "id": "0bb059cb-d890-4f8e-954e-c5120eb25d62",
   "metadata": {},
   "outputs": [
    {
     "data": {
      "text/plain": [
       "'hello'"
      ]
     },
     "execution_count": 21,
     "metadata": {},
     "output_type": "execute_result"
    }
   ],
   "source": [
    "#Click here for the solution\n",
    "a_list[1]"
   ]
  },
  {
   "cell_type": "code",
   "execution_count": 22,
   "id": "0670d49e-8e75-4833-bbab-a5396843ff9e",
   "metadata": {},
   "outputs": [
    {
     "data": {
      "text/plain": [
       "['hello', [1, 2, 3], True]"
      ]
     },
     "execution_count": 22,
     "metadata": {},
     "output_type": "execute_result"
    }
   ],
   "source": [
    "# Click here for the solution\n",
    "a_list[1:4]"
   ]
  },
  {
   "cell_type": "code",
   "execution_count": 23,
   "id": "8671a49e-f885-4306-b868-19531378d443",
   "metadata": {},
   "outputs": [
    {
     "data": {
      "text/plain": [
       "[1, 'a', 2, 1, 'd']"
      ]
     },
     "execution_count": 23,
     "metadata": {},
     "output_type": "execute_result"
    }
   ],
   "source": [
    "A = [1, 'a'] \n",
    "B = [2, 1, 'd']\n",
    "A + B"
   ]
  },
  {
   "cell_type": "code",
   "execution_count": 24,
   "id": "ef5b7410-a828-4636-9c60-2c516151426f",
   "metadata": {},
   "outputs": [
    {
     "data": {
      "text/plain": [
       "[1, 'a', 2, 1, 'd']"
      ]
     },
     "execution_count": 24,
     "metadata": {},
     "output_type": "execute_result"
    }
   ],
   "source": [
    "C= A+B\n",
    "C"
   ]
  },
  {
   "cell_type": "code",
   "execution_count": 25,
   "id": "459b01d8-c76a-48c4-90b7-173d25ca3cc0",
   "metadata": {},
   "outputs": [],
   "source": [
    "# Click here for the solution\n",
    "Shopping_list=[]"
   ]
  },
  {
   "cell_type": "code",
   "execution_count": 26,
   "id": "d6350c22-824e-4005-bb60-67851478c7d5",
   "metadata": {},
   "outputs": [],
   "source": [
    "Shopping_list=[\"Watch\",\"Laptop\",\"Shoes\",\"Pen\",\"Clothes\"]"
   ]
  },
  {
   "cell_type": "code",
   "execution_count": 27,
   "id": "8fd326cc-f772-4d61-b216-c69ab53b0e00",
   "metadata": {},
   "outputs": [],
   "source": [
    "Shopping_list.append(\"Football\")"
   ]
  },
  {
   "cell_type": "code",
   "execution_count": 28,
   "id": "86f340a0-90e3-4058-a349-bc4bcc371a8b",
   "metadata": {},
   "outputs": [
    {
     "name": "stdout",
     "output_type": "stream",
     "text": [
      "Watch\n"
     ]
    }
   ],
   "source": [
    "print(Shopping_list[0])"
   ]
  },
  {
   "cell_type": "code",
   "execution_count": 29,
   "id": "ebcdc925-d9fe-4757-a39b-b202f6a3ba8d",
   "metadata": {},
   "outputs": [
    {
     "name": "stdout",
     "output_type": "stream",
     "text": [
      "Football\n"
     ]
    }
   ],
   "source": [
    "print(Shopping_list[-1])"
   ]
  },
  {
   "cell_type": "code",
   "execution_count": 30,
   "id": "84da8dd9-9497-47be-a803-968be2f12037",
   "metadata": {},
   "outputs": [
    {
     "name": "stdout",
     "output_type": "stream",
     "text": [
      "['Watch', 'Laptop', 'Shoes', 'Pen', 'Clothes', 'Football']\n"
     ]
    }
   ],
   "source": [
    "print(Shopping_list)"
   ]
  },
  {
   "cell_type": "code",
   "execution_count": 31,
   "id": "9d0c54f6-b6a5-4b21-98ae-0bb895872b7c",
   "metadata": {},
   "outputs": [
    {
     "name": "stdout",
     "output_type": "stream",
     "text": [
      "['Laptop', 'Shoes']\n"
     ]
    }
   ],
   "source": [
    "print(Shopping_list[1:3])"
   ]
  },
  {
   "cell_type": "code",
   "execution_count": 33,
   "id": "5959d309-4511-441c-b803-55c9b879c86c",
   "metadata": {},
   "outputs": [],
   "source": [
    "Shopping_list[3] = \"Notebook\""
   ]
  },
  {
   "cell_type": "code",
   "execution_count": 38,
   "id": "3dc86221-0d6b-4e4e-a641-7157d1a39ae1",
   "metadata": {},
   "outputs": [
    {
     "ename": "NameError",
     "evalue": "name 'shopping_list' is not defined",
     "output_type": "error",
     "traceback": [
      "\u001b[1;31m---------------------------------------------------------------------------\u001b[0m",
      "\u001b[1;31mNameError\u001b[0m                                 Traceback (most recent call last)",
      "Input \u001b[1;32mIn [38]\u001b[0m, in \u001b[0;36m<cell line: 1>\u001b[1;34m()\u001b[0m\n\u001b[1;32m----> 1\u001b[0m \u001b[38;5;28;01mdel\u001b[39;00m (\u001b[43mshopping_list\u001b[49m[\u001b[38;5;241m4\u001b[39m])\n",
      "\u001b[1;31mNameError\u001b[0m: name 'shopping_list' is not defined"
     ]
    }
   ],
   "source": [
    "del (shopping_list[4])"
   ]
  },
  {
   "cell_type": "code",
   "execution_count": 36,
   "id": "79f525df-c883-4787-9b5c-d4a246cc052f",
   "metadata": {},
   "outputs": [
    {
     "name": "stdout",
     "output_type": "stream",
     "text": [
      "['Watch', 'Laptop', 'Shoes', 'Notebook', 'Clothes', 'Football']\n"
     ]
    }
   ],
   "source": [
    "print(Shopping_list)"
   ]
  },
  {
   "cell_type": "code",
   "execution_count": null,
   "id": "7dc6a5c9-1925-4738-9785-3cdc609de66c",
   "metadata": {},
   "outputs": [],
   "source": []
  }
 ],
 "metadata": {
  "kernelspec": {
   "display_name": "Python 3 (ipykernel)",
   "language": "python",
   "name": "python3"
  },
  "language_info": {
   "codemirror_mode": {
    "name": "ipython",
    "version": 3
   },
   "file_extension": ".py",
   "mimetype": "text/x-python",
   "name": "python",
   "nbconvert_exporter": "python",
   "pygments_lexer": "ipython3",
   "version": "3.9.12"
  }
 },
 "nbformat": 4,
 "nbformat_minor": 5
}
